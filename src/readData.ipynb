{
 "cells": [
  {
   "cell_type": "code",
   "execution_count": 75,
   "metadata": {},
   "outputs": [],
   "source": [
    "using MAT, Printf"
   ]
  },
  {
   "cell_type": "code",
   "execution_count": 212,
   "metadata": {},
   "outputs": [],
   "source": [
    "mutable struct SubjectData\n",
    "    # data\n",
    "    seq\n",
    "    seqIdx\n",
    "    meg\n",
    "end"
   ]
  },
  {
   "cell_type": "code",
   "execution_count": 213,
   "metadata": {},
   "outputs": [
    {
     "data": {
      "text/plain": [
       "getMEGForElement (generic function with 1 method)"
      ]
     },
     "execution_count": 213,
     "metadata": {},
     "output_type": "execute_result"
    }
   ],
   "source": [
    "function getNValidTrials(s::SubjectData) \n",
    "    return size(s.meg[\"trialinfo\"], 1)\n",
    "end\n",
    "\n",
    "function getTimestamps(s::SubjectData)\n",
    "    return s.meg[\"time\"][1,:]\n",
    "end\n",
    "\n",
    "function getSeqForBlock(s::SubjectData, block)\n",
    "    return s.seq[1,block][1,:]\n",
    "end\n",
    "\n",
    "function getMEGForBlock(s::SubjectData, block)\n",
    "    blockIdx = s.meg[\"trialinfo\"][:,3] .=== block\n",
    "    # return data and data metadata\n",
    "    return s.meg[\"trial\"][blockIdx,:,:], s.meg[\"trialinfo\"][blockIdx,:]\n",
    "end\n",
    "\n",
    "function getMEGForElement(s::SubjectData, block, idx)\n",
    "    if idx in s.seqIdx[1,block][1,:]\n",
    "        meg, info = getMEGForBlock(s, block)\n",
    "        megIdx = argmax(info[:,2] .=== idx)\n",
    "        return meg[megIdx,:,:]\n",
    "    else\n",
    "        return nothing\n",
    "    end\n",
    "end"
   ]
  },
  {
   "cell_type": "code",
   "execution_count": 214,
   "metadata": {},
   "outputs": [
    {
     "data": {
      "text/plain": [
       "getFilename (generic function with 1 method)"
      ]
     },
     "execution_count": 214,
     "metadata": {},
     "output_type": "execute_result"
    }
   ],
   "source": [
    "getFilename(subjectNumber) = @sprintf(\n",
    "    \"../../../../../../Documents/human_sequence_inference_data/subject%s.mat\",\n",
    "    lpad(subjectNumber, 2, \"0\")\n",
    ")"
   ]
  },
  {
   "cell_type": "code",
   "execution_count": 215,
   "metadata": {},
   "outputs": [
    {
     "data": {
      "text/plain": [
       "loadSubjectData (generic function with 1 method)"
      ]
     },
     "execution_count": 215,
     "metadata": {},
     "output_type": "execute_result"
    }
   ],
   "source": [
    "function loadSubjectData(filename)\n",
    "    file = matopen(filename)\n",
    "    \n",
    "    # read file\n",
    "    seq = read(file, \"seq\")\n",
    "    seqIdx = read(file, \"seqidx\")\n",
    "    meg = read(file, \"meg\")\n",
    "    \n",
    "    close(file)\n",
    "    \n",
    "    # transform floats to ints (indexes)\n",
    "    seqIdx = [round.(Int, block) for block in seqIdx]\n",
    "    meg[\"trialinfo\"] = round.(Int, meg[\"trialinfo\"])\n",
    "    \n",
    "    return SubjectData(\n",
    "        seq,\n",
    "        seqIdx,\n",
    "        meg\n",
    "    )\n",
    "end"
   ]
  },
  {
   "cell_type": "code",
   "execution_count": 216,
   "metadata": {},
   "outputs": [],
   "source": [
    "sub1 = loadSubjectData(getFilename(1));"
   ]
  },
  {
   "cell_type": "code",
   "execution_count": 233,
   "metadata": {},
   "outputs": [
    {
     "data": {
      "text/plain": [
       "Dict{String,Any} with 82 entries:\n",
       "  \"bpfiltwintype\"    => \"hamming\"\n",
       "  \"resample\"         => \"\"\n",
       "  \"detrend\"          => \"no\"\n",
       "  \"lpfiltdir\"        => \"twopass\"\n",
       "  \"paddir\"           => \"both\"\n",
       "  \"bsfilter\"         => \"no\"\n",
       "  \"implicitref\"      => Array{Float64}(undef,0,0)\n",
       "  \"hpfiltord\"        => Array{Float64}(undef,0,0)\n",
       "  \"bpfiltdir\"        => \"twopass\"\n",
       "  \"bsfiltdf\"         => Array{Float64}(undef,0,0)\n",
       "  \"bpfilttype\"       => \"but\"\n",
       "  \"lpfiltdev\"        => Array{Float64}(undef,0,0)\n",
       "  \"medianfilter\"     => \"no\"\n",
       "  \"feedback\"         => \"text\"\n",
       "  \"version\"          => Dict{String,Any}(\"name\"=>\"/Users/Maxime/Documents/MATLA…\n",
       "  \"bpfiltord\"        => Array{Float64}(undef,0,0)\n",
       "  \"subspace\"         => Array{Float64}(undef,0,0)\n",
       "  \"usefftfilt\"       => \"no\"\n",
       "  \"refmethod\"        => \"avg\"\n",
       "  \"custom\"           => \"\"\n",
       "  \"removemcg\"        => \"no\"\n",
       "  \"bsfiltdir\"        => \"twopass\"\n",
       "  \"bsinstabilityfix\" => \"no\"\n",
       "  \"hpfiltdf\"         => Array{Float64}(undef,0,0)\n",
       "  \"channel\"          => Any[\"MEG0111\"; \"MEG0121\"; … ; \"MEG2632\"; \"MEG2643\"]\n",
       "  ⋮                  => ⋮"
      ]
     },
     "execution_count": 233,
     "metadata": {},
     "output_type": "execute_result"
    }
   ],
   "source": [
    "sub1.meg[\"cfg\"]"
   ]
  },
  {
   "cell_type": "code",
   "execution_count": 230,
   "metadata": {},
   "outputs": [
    {
     "data": {
      "text/plain": [
       "306×321 Array{Float64,2}:\n",
       "  6.13979e-14   6.46931e-14   6.72183e-14  …  -4.22019e-13  -3.30982e-13\n",
       "  5.21723e-14   4.93652e-14   4.59211e-14     -3.61761e-13  -2.86584e-13\n",
       "  3.04582e-15   3.75315e-14   6.54938e-14     -4.94476e-13  -3.78859e-13\n",
       "  1.28741e-13   1.38551e-13   1.47156e-13     -4.45832e-13  -3.4087e-13 \n",
       " -5.68019e-14  -3.13014e-14  -7.3767e-15      -4.04407e-13  -3.34266e-13\n",
       "  8.01028e-15   3.0036e-14    4.57131e-14  …  -4.78921e-13  -4.61392e-13\n",
       " -5.85053e-14  -4.25965e-14  -3.88345e-14     -4.91703e-13  -4.49317e-13\n",
       " -6.31866e-14  -1.43909e-14   2.49953e-14     -4.3831e-13   -3.42086e-13\n",
       "  7.968e-14     8.15223e-14   9.0525e-14      -3.22976e-13  -3.27726e-13\n",
       "  6.24942e-14   7.72851e-14   9.70555e-14     -3.91125e-13  -3.93646e-13\n",
       "  8.02143e-14   1.00771e-13   1.27126e-13  …  -2.16533e-13  -2.29579e-13\n",
       "  3.1924e-14    3.13581e-14   3.71458e-14     -3.87328e-13  -3.55475e-13\n",
       "  1.14668e-13   1.32841e-13   1.41309e-13     -2.36862e-13  -2.43225e-13\n",
       "  ⋮                                        ⋱                 ⋮          \n",
       " -2.98598e-12  -2.62371e-12  -2.26257e-12      5.13009e-12   4.63384e-12\n",
       " -2.32139e-12  -2.33916e-12  -2.09364e-12  …   2.65024e-12   1.61307e-12\n",
       "  4.63402e-12   3.30833e-12   1.70075e-12      3.31265e-12   3.22175e-12\n",
       "  2.17845e-12   1.62018e-12   7.53616e-13      1.39668e-12   1.85474e-12\n",
       " -2.38734e-12  -2.05604e-12  -1.77167e-12     -4.28238e-13   4.65775e-13\n",
       "  5.1376e-13   -4.09178e-13  -1.32527e-12      5.22804e-12   4.66487e-12\n",
       " -6.05905e-13  -1.06348e-12  -1.49445e-12  …   3.11201e-12   3.37614e-12\n",
       " -3.18344e-12  -3.07873e-12  -2.77025e-12     -1.10479e-12   3.47261e-15\n",
       "  4.89432e-13   1.18493e-12   1.78116e-12      3.76058e-12   3.52773e-12\n",
       "  2.52911e-12   1.86886e-12   1.28078e-12      4.43625e-12   3.80696e-12\n",
       "  1.2838e-12    1.06745e-12   5.1521e-13       1.04001e-12   5.18489e-13\n",
       "  6.51323e-13   7.38579e-14  -1.93171e-13  …   3.43174e-13  -3.68334e-13"
      ]
     },
     "execution_count": 230,
     "metadata": {},
     "output_type": "execute_result"
    }
   ],
   "source": [
    "getMEGForElement(sub1, 1, 2)"
   ]
  },
  {
   "cell_type": "code",
   "execution_count": 234,
   "metadata": {},
   "outputs": [
    {
     "data": {
      "text/plain": [
       "1426"
      ]
     },
     "execution_count": 234,
     "metadata": {},
     "output_type": "execute_result"
    }
   ],
   "source": [
    "getNValidTrials(sub1)"
   ]
  },
  {
   "cell_type": "code",
   "execution_count": 231,
   "metadata": {},
   "outputs": [
    {
     "data": {
      "text/plain": [
       "430-element Array{Float64,1}:\n",
       "   2.0\n",
       "   2.0\n",
       "   2.0\n",
       "   1.0\n",
       "   2.0\n",
       "   2.0\n",
       "   1.0\n",
       "   1.0\n",
       "   2.0\n",
       "   2.0\n",
       "   1.0\n",
       "   1.0\n",
       "   2.0\n",
       "   ⋮  \n",
       "   2.0\n",
       "   2.0\n",
       "   1.0\n",
       "   2.0\n",
       "   2.0\n",
       " NaN  \n",
       "   1.0\n",
       "   1.0\n",
       "   1.0\n",
       "   1.0\n",
       "   2.0\n",
       "   2.0"
      ]
     },
     "execution_count": 231,
     "metadata": {},
     "output_type": "execute_result"
    }
   ],
   "source": [
    "getSeqForBlock(sub1, 1)"
   ]
  },
  {
   "cell_type": "code",
   "execution_count": null,
   "metadata": {},
   "outputs": [],
   "source": [
    "# in total, 4 runs of sequences were made for each subject\n",
    "# each run corresponds to a block with different statistics (e.g. more alternations)\n",
    "\n",
    "# in each run, the sequence consists of 430 elements (A or B)\n",
    "# every element is ~200ms in duration, and the space between onset of x_t and onset of x_{t+1} is 1400ms\n",
    "# every 12 - 18 element, no element was shown, but the subject was asked to guess the next element\n",
    "\n",
    "# every element has a MEG measurement attached to it\n",
    "# 306 sensors around the head\n",
    "# 321 time points for each element, reaching from -0.25s before stimulus onset to 1s after stimulus onset\n",
    "\n",
    "# some elements have to be discarded following pre-processing\n",
    "# this is why some sequence elements don't have any associated MEG measurements\n",
    "\n",
    "# thus, trial is N x 306 x 321, where N would be 430 * 4 = 1720 if no elements had been discarded\n",
    "\n",
    "# trialinfo contains info about every sequence element\n",
    "# -> which element index overall\n",
    "# -> which element index in the block sequence\n",
    "# -> which block\n",
    "# -> which element\n",
    "\n",
    "# having to remove certain trials is not a problem:\n",
    "# use sequence as-is, we just don't have the MEG data of the brain response"
   ]
  }
 ],
 "metadata": {
  "kernelspec": {
   "display_name": "Julia 1.3.1",
   "language": "julia",
   "name": "julia-1.3"
  },
  "language_info": {
   "file_extension": ".jl",
   "mimetype": "application/julia",
   "name": "julia",
   "version": "1.3.1"
  }
 },
 "nbformat": 4,
 "nbformat_minor": 4
}
