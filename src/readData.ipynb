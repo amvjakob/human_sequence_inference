{
 "cells": [
  {
   "cell_type": "code",
   "execution_count": 55,
   "metadata": {},
   "outputs": [],
   "source": [
    "using JLD2, FileIO, Printf"
   ]
  },
  {
   "cell_type": "code",
   "execution_count": 3,
   "metadata": {},
   "outputs": [],
   "source": [
    "include(\"readData.jl\")\n",
    ";"
   ]
  },
  {
   "cell_type": "code",
   "execution_count": 59,
   "metadata": {},
   "outputs": [],
   "source": [
    "function transformMatToJLD()\n",
    "    for s in 1:18\n",
    "        println(\"subject $s\")\n",
    "        subject = loadSubjectData(getFilename(s))\n",
    "        @save @sprintf(\"../../../../../../Documents/human_sequence_inference_data/jld2/subject%s.jld2\", lpad(s, 2, \"0\")) subject\n",
    "    end\n",
    "end\n",
    ";"
   ]
  }
 ],
 "metadata": {
  "kernelspec": {
   "display_name": "Julia 1.3.1",
   "language": "julia",
   "name": "julia-1.3"
  },
  "language_info": {
   "file_extension": ".jl",
   "mimetype": "application/julia",
   "name": "julia",
   "version": "1.3.1"
  }
 },
 "nbformat": 4,
 "nbformat_minor": 4
}
