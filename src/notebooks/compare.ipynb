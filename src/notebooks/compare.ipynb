{
 "cells": [
  {
   "cell_type": "markdown",
   "metadata": {},
   "source": [
    "# Comparing sample results with those from _Maheu, et al._"
   ]
  },
  {
   "cell_type": "code",
   "execution_count": 3,
   "metadata": {},
   "outputs": [],
   "source": [
    "using PyPlot, Printf, DelimitedFiles\n",
    "\n",
    "include(\"../regression.jl\")\n",
    "include(\"../inference.jl\")\n",
    "\n",
    "include(\"../UpdateRule.jl\")\n",
    "include(\"../Leaky.jl\")\n",
    "include(\"../VarSMiLe.jl\")\n",
    "include(\"../ParticleFiltering.jl\");"
   ]
  },
  {
   "cell_type": "code",
   "execution_count": 4,
   "metadata": {},
   "outputs": [],
   "source": [
    "Random.seed!(1234);"
   ]
  },
  {
   "cell_type": "markdown",
   "metadata": {},
   "source": [
    "## Item frequency"
   ]
  },
  {
   "cell_type": "code",
   "execution_count": 5,
   "metadata": {},
   "outputs": [],
   "source": [
    "# generate sequence from given item frequency\n",
    "function generate_seq_base(chunks, ps)\n",
    "    seq = Array{Int32}(undef, sum(chunks))\n",
    "    prob = Array{Float32}(undef, sum(chunks))\n",
    "    \n",
    "    i = 1\n",
    "    for (p, chunk) in zip(ps, chunks)\n",
    "        for j = 1:chunk\n",
    "            seq[i] = rand() < p\n",
    "            prob[i] = p\n",
    "            i += 1\n",
    "        end\n",
    "    end\n",
    "    \n",
    "    return (seq, prob)\n",
    "end;"
   ]
  },
  {
   "cell_type": "code",
   "execution_count": 6,
   "metadata": {},
   "outputs": [],
   "source": [
    "function export_seq(seq, filename)\n",
    "    f = open(filename, \"w\")\n",
    "\n",
    "    for el in seq\n",
    "        print(f, el)\n",
    "        print(f, \" \")\n",
    "    end\n",
    "    \n",
    "    close(f)\n",
    "end;"
   ]
  },
  {
   "cell_type": "code",
   "execution_count": 7,
   "metadata": {},
   "outputs": [],
   "source": [
    "function read_seq(filename, len)\n",
    "    f = open(filename, \"r\")\n",
    "    t = readdlm(f)\n",
    "    close(f)\n",
    "    \n",
    "    return t[1,1:len]\n",
    "end;"
   ]
  },
  {
   "cell_type": "code",
   "execution_count": 8,
   "metadata": {},
   "outputs": [],
   "source": [
    "function read_thetas_matlab(filename, len)\n",
    "    f = open(filename, \"r\")\n",
    "    t = readdlm(f)\n",
    "    close(f)\n",
    "    return t[1,1:len]\n",
    "end;"
   ]
  },
  {
   "cell_type": "code",
   "execution_count": 9,
   "metadata": {},
   "outputs": [],
   "source": [
    "# ============== DECODE BASE RATE ======================\n",
    "# generate sequence\n",
    "chunks = [200, 200, 200, 200, 200]\n",
    "len = sum(chunks)\n",
    "\n",
    "p = 0.25\n",
    "ps = [p, 1-p, p, 1-p, p];"
   ]
  },
  {
   "cell_type": "markdown",
   "metadata": {},
   "source": [
    "If the sequence already exists:"
   ]
  },
  {
   "cell_type": "code",
   "execution_count": 10,
   "metadata": {},
   "outputs": [],
   "source": [
    "seq_base = read_seq(\"../../test/seq1.txt\", 1000);\n",
    "seq_base = Int.(seq_base);"
   ]
  },
  {
   "cell_type": "markdown",
   "metadata": {},
   "source": [
    "If the sequence does not already exist:"
   ]
  },
  {
   "cell_type": "code",
   "execution_count": 11,
   "metadata": {},
   "outputs": [],
   "source": [
    "(seq_base, prob) = generate_seq_base(chunks, ps)\n",
    "export_seq(seq_base, \"../../test/seq1.txt\")\n",
    "export_seq(prob, \"../../test/seq1_p.txt\")"
   ]
  },
  {
   "cell_type": "code",
   "execution_count": 11,
   "metadata": {},
   "outputs": [
    {
     "name": "stdout",
     "output_type": "stream",
     "text": [
      "n / len = 1.0\n"
     ]
    }
   ],
   "source": [
    "sbf, thetas = decodesbftheta(seq_base, Leaky(Inf, prior_fixed(0)))\n",
    "\n",
    "# thetas is the probability of each sequence element --> need to invert it so we always have P(x = 0)\n",
    "thetas = vcat(abs.(thetas[1:end-1] .- seq_base)[2:end], abs(thetas[end] - seq_base[end]))\n",
    "thetas_matlab = read_thetas_matlab(\"../../test/seq1_perfect_theta.txt\", len)\n",
    "\n",
    "threshold = 1e-8\n",
    "n = sum(isless.(abs.(thetas - thetas_matlab), threshold))\n",
    "\n",
    "# percentage of correct predictions\n",
    "@show(n / len);"
   ]
  },
  {
   "cell_type": "code",
   "execution_count": 12,
   "metadata": {},
   "outputs": [
    {
     "name": "stdout",
     "output_type": "stream",
     "text": [
      "n / len = 1.0\n"
     ]
    }
   ],
   "source": [
    "sbf, thetas = decodesbftheta(seq_base, Leaky(10, prior_fixed(0)))\n",
    "\n",
    "# thetas is the probability of each sequence element --> need to invert it so we always have P(x = 0)\n",
    "thetas = vcat(abs.(thetas[1:end-1] .- seq_base)[2:end], abs(thetas[end] - seq_base[end]))\n",
    "thetas_matlab = read_thetas_matlab(\"../../test/seq1_leaky_10_theta.txt\", len)\n",
    "\n",
    "threshold = 1e-8\n",
    "n = sum(isless.(abs.(thetas - thetas_matlab), threshold))\n",
    "\n",
    "# percentage of correct predictions\n",
    "@show(n / len);"
   ]
  },
  {
   "cell_type": "markdown",
   "metadata": {},
   "source": [
    "## Transition probabilities"
   ]
  },
  {
   "cell_type": "code",
   "execution_count": 13,
   "metadata": {},
   "outputs": [],
   "source": [
    "# generate sequence from given transition probabilities\n",
    "function generate_seq_transition(chunks, ps1g2, ps2g1)\n",
    "    seq = Array{Int32}(undef, sum(chunks))\n",
    "    prob1g2 = Array{Float32}(undef, sum(chunks))\n",
    "    prob2g1 = Array{Float32}(undef, sum(chunks))\n",
    "    \n",
    "    i = 2\n",
    "    \n",
    "    # set inital value\n",
    "    seq[1] = rand() > 0.5\n",
    "    prob1g2[1] = ps1g2[1]\n",
    "    prob2g1[1] = ps2g1[1]\n",
    "    \n",
    "    for (p1g2, p2g1, chunk) in zip(ps1g2, ps2g1, chunks)\n",
    "        for j = 1:chunk\n",
    "            p = seq[i - 1] == 0 ? p2g1 : 1 - p1g2\n",
    "            seq[i] = rand() < p\n",
    "            prob1g2[i] = p1g2\n",
    "            prob2g1[i] = p2g1\n",
    "            i += 1\n",
    "            if i > sum(chunks)\n",
    "               break \n",
    "            end\n",
    "        end\n",
    "    end\n",
    "    \n",
    "    return (seq, prob1g2, prob2g1)\n",
    "end;"
   ]
  },
  {
   "cell_type": "code",
   "execution_count": 14,
   "metadata": {},
   "outputs": [],
   "source": [
    "# ============== DECODE TRANSITION PROBABILITIES ======================\n",
    "# generate sequence\n",
    "chunks = [100, 200, 100, 200]\n",
    "len = sum(chunks)\n",
    "\n",
    "p = 0.25\n",
    "p1g2  = 1 .- [p, 1-p, p, 1-p]\n",
    "p2g1  =      [p, 1-p, p, 1-p];"
   ]
  },
  {
   "cell_type": "markdown",
   "metadata": {},
   "source": [
    "If the sequence already exists:"
   ]
  },
  {
   "cell_type": "code",
   "execution_count": 15,
   "metadata": {},
   "outputs": [],
   "source": [
    "seq_trans = read_seq(\"../../test/seq2.txt\", 600);\n",
    "seq_trans = Int.(seq_trans);"
   ]
  },
  {
   "cell_type": "markdown",
   "metadata": {},
   "source": [
    "If the sequence does not already exist:"
   ]
  },
  {
   "cell_type": "code",
   "execution_count": null,
   "metadata": {},
   "outputs": [],
   "source": [
    "(seq_trans, prob1g2, prob2g1) = generate_seq_transition(chunks, p1g2, p2g1)\n",
    "export_seq(seq_trans, \"../../test/seq2.txt\")\n",
    "export_seq(prob1g2, \"../../test/seq2_p1g2.txt\")\n",
    "export_seq(prob2g1, \"../../test/seq2_p2g1.txt\")"
   ]
  },
  {
   "cell_type": "code",
   "execution_count": 16,
   "metadata": {},
   "outputs": [
    {
     "name": "stdout",
     "output_type": "stream",
     "text": [
      "n / len = 1.0\n"
     ]
    }
   ],
   "source": [
    "sbf, thetas = decodesbftheta(seq_trans, Leaky(Inf, prior_fixed(1)))\n",
    "\n",
    "# thetas is the probability of each sequence element --> need to invert it so we always have P(x = 0)\n",
    "thetas = vcat(abs.(thetas[1:end-1] .- seq_trans)[2:end], abs(thetas[end] - seq_trans[end]))\n",
    "thetas_matlab = read_thetas_matlab(\"../../test/seq2_perfect_theta.txt\", len)\n",
    "\n",
    "threshold = 1e-8\n",
    "n = sum(isless.(abs.(thetas - thetas_matlab), threshold))\n",
    "\n",
    "# percentage of correct predictions\n",
    "@show(n / len);"
   ]
  },
  {
   "cell_type": "code",
   "execution_count": 17,
   "metadata": {},
   "outputs": [
    {
     "name": "stdout",
     "output_type": "stream",
     "text": [
      "n / len = 1.0\n"
     ]
    }
   ],
   "source": [
    "sbf, thetas = decodesbftheta(seq_trans, Leaky(16, prior_fixed(1), updateallcols=true))\n",
    "\n",
    "# thetas is the probability of each sequence element --> need to invert it so we always have P(x = 0)\n",
    "thetas = vcat(abs.(thetas[1:end-1] .- seq_trans)[2:end], abs(thetas[end] - seq_trans[end]))\n",
    "thetas_matlab = read_thetas_matlab(\"../../test/seq2_leaky_16_theta.txt\", len)\n",
    "\n",
    "threshold = 1e-8\n",
    "n = sum(isless.(abs.(thetas - thetas_matlab), threshold))\n",
    "\n",
    "# percentage of correct predictions\n",
    "@show(n / len);"
   ]
  },
  {
   "cell_type": "markdown",
   "metadata": {},
   "source": [
    "In the case m = 0 (item frequency learning), Maheu et al. estimate the thetas after seeing the value.\n",
    "\n",
    "In the case m = 1 (transition frequency learning), Maheu et al. estimate the thetas before seeing the value, but discard the first value since there is no window before it."
   ]
  }
 ],
 "metadata": {
  "kernelspec": {
   "display_name": "Julia 1.3.1",
   "language": "julia",
   "name": "julia-1.3"
  },
  "language_info": {
   "file_extension": ".jl",
   "mimetype": "application/julia",
   "name": "julia",
   "version": "1.3.1"
  }
 },
 "nbformat": 4,
 "nbformat_minor": 4
}
