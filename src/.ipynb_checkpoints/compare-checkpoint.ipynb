{
 "cells": [
  {
   "cell_type": "code",
   "execution_count": 145,
   "metadata": {},
   "outputs": [],
   "source": [
    "using PyPlot, Printf, Random, DelimitedFiles\n",
    "\n",
    "include(\"decode.jl\")\n",
    "include(\"utils.jl\")\n",
    "include(\"updateRule.jl\");"
   ]
  },
  {
   "cell_type": "code",
   "execution_count": 2,
   "metadata": {},
   "outputs": [],
   "source": [
    "Random.seed!(1234);"
   ]
  },
  {
   "cell_type": "code",
   "execution_count": 129,
   "metadata": {},
   "outputs": [],
   "source": [
    "function computeSBFAndTheta(rule, x_t, col)\n",
    "   return rule.computeSBF(x_t, col, alpha_0[:,col])\n",
    "end\n",
    "\n",
    "function decodeSurprise(seq, m, alpha_0, rule, ignoreFirstM = true)\n",
    "    function computeSBFAndTheta(rule, x_t, col)\n",
    "        sbf = rule.computeSBF(x_t, col, alpha_0[:,col])\n",
    "        theta = 1 - rule.computeTheta(col)\n",
    "        return (sbf, theta) \n",
    "    end\n",
    "    \n",
    "    # define callback to compute SBF and Thetas\n",
    "    returnType = Tuple{Float64, Float64}\n",
    "    callback = Callback(computeSBFAndTheta, returnType)\n",
    "\n",
    "    # decode sequence\n",
    "    values = decode(seq, m, alpha_0, rule;\n",
    "                    callback = callback, ignoreFirstM = ignoreFirstM)\n",
    "    \n",
    "    if ignoreFirstM && m > 0\n",
    "        values[1:m] .= Ref{returnType}((1.0, 0.5))\n",
    "    end\n",
    "    \n",
    "    return values\n",
    "end;"
   ]
  },
  {
   "cell_type": "code",
   "execution_count": 6,
   "metadata": {},
   "outputs": [],
   "source": [
    "function generateSequenceBase(chunks, ps)\n",
    "    seq = Array{Int32}(undef, sum(chunks))\n",
    "    prob = Array{Float32}(undef, sum(chunks))\n",
    "    \n",
    "    i = 1\n",
    "    for (p, chunk) in zip(ps, chunks)\n",
    "        for j = 1:chunk\n",
    "            seq[i] = rand() < p\n",
    "            prob[i] = p\n",
    "            i += 1\n",
    "        end\n",
    "    end\n",
    "    \n",
    "    return (seq, prob)\n",
    "end;"
   ]
  },
  {
   "cell_type": "code",
   "execution_count": 7,
   "metadata": {},
   "outputs": [],
   "source": [
    "function generateSequenceTrans(chunks, ps1g2, ps2g1)\n",
    "    seq = Array{Int32}(undef, sum(chunks))\n",
    "    prob1g2 = Array{Float32}(undef, sum(chunks))\n",
    "    prob2g1 = Array{Float32}(undef, sum(chunks))\n",
    "    \n",
    "    i = 2\n",
    "    \n",
    "    # set inital value\n",
    "    seq[1] = rand() > 0.5\n",
    "    prob1g2[1] = ps1g2[1]\n",
    "    prob2g1[1] = ps2g1[1]\n",
    "    \n",
    "    for (p1g2, p2g1, chunk) in zip(ps1g2, ps2g1, chunks)\n",
    "        for j = 1:chunk\n",
    "            p = seq[i - 1] == 0 ? p2g1 : 1 - p1g2\n",
    "            seq[i] = rand() < p\n",
    "            prob1g2[i] = p1g2\n",
    "            prob2g1[i] = p2g1\n",
    "            i += 1\n",
    "            if i > sum(chunks)\n",
    "               break \n",
    "            end\n",
    "        end\n",
    "    end\n",
    "    \n",
    "    return (seq, prob1g2, prob2g1)\n",
    "end;"
   ]
  },
  {
   "cell_type": "code",
   "execution_count": 8,
   "metadata": {},
   "outputs": [],
   "source": [
    "function exportSeq(seq, filename)\n",
    "    f = open(filename, \"w\")\n",
    "\n",
    "    for el in seq\n",
    "        print(f, el)\n",
    "        print(f, \" \")\n",
    "    end\n",
    "    \n",
    "    close(f)\n",
    "end\n",
    ";"
   ]
  },
  {
   "cell_type": "code",
   "execution_count": 67,
   "metadata": {},
   "outputs": [],
   "source": [
    "function readThetasMatlab(filename, len)\n",
    "   f = open(filename, \"r\")\n",
    "    t = readdlm(f)\n",
    "    close(f)\n",
    "    return t[1,1:len]\n",
    "end;"
   ]
  },
  {
   "cell_type": "code",
   "execution_count": 10,
   "metadata": {},
   "outputs": [],
   "source": [
    "function readSeq(filename, len)\n",
    "    f = open(filename, \"r\")\n",
    "    t = readdlm(f)\n",
    "    close(f)\n",
    "    \n",
    "    return t[1,1:len]\n",
    "end;"
   ]
  },
  {
   "cell_type": "code",
   "execution_count": 130,
   "metadata": {},
   "outputs": [],
   "source": [
    "# ============== DECODE BASE RATE ======================\n",
    "# generate sequence\n",
    "chunks = [200, 200, 200, 200, 200]\n",
    "len = sum(chunks)\n",
    "\n",
    "p = 0.25\n",
    "ps = [p, 1-p, p, 1-p, p]\n",
    "\n",
    "seq_base = readSeq(\"../test/seq1.txt\", 1000)\n",
    "# (seq_base, prob) = generateSequenceBase(chunks, ps)\n",
    "# exportSeq(seq_base, \"../test/seq1.txt\")\n",
    "# exportSeq(prob, \"../test/seq1_p.txt\")\n",
    "\n",
    "\"\"\"\n",
    "# matlab code\n",
    "\n",
    "s = dlmread('seq1.txt') + 1; % add one because they work with elements 1 and 2\n",
    "gen_p1 = dlmread('seq1_p.txt');\n",
    "\n",
    "% compute ...\n",
    "\n",
    "fid = fopen('seq1_leaky_10_theta.txt','wt'); % change filename\n",
    "fprintf(fid, '%.9f ', out.FIX.p1_mean');\n",
    "fclose(fid);\n",
    "\n",
    "return;\n",
    "\"\"\"\n",
    ";"
   ]
  },
  {
   "cell_type": "code",
   "execution_count": 146,
   "metadata": {},
   "outputs": [
    {
     "name": "stdout",
     "output_type": "stream",
     "text": [
      "n / len = 1.0\n"
     ]
    }
   ],
   "source": [
    "values = decodeSurprise(seq_base, 0, ones(2, 1), perfect());\n",
    "\n",
    "thetas = map(t -> t[2], values[2:end]);\n",
    "thetas_matlab = readThetasMatlab(\"../test/seq1_perfect_theta.txt\", len)\n",
    "\n",
    "threshold = 1e-8\n",
    "n = sum(isless.(abs.(thetas - thetas_matlab), threshold))\n",
    "\n",
    "# percentage of correct predictions\n",
    "@show(n / len);"
   ]
  },
  {
   "cell_type": "code",
   "execution_count": 147,
   "metadata": {},
   "outputs": [
    {
     "name": "stdout",
     "output_type": "stream",
     "text": [
      "n / len = 1.0\n"
     ]
    }
   ],
   "source": [
    "values = decodeSurprise(seq_base, 0, ones(2, 1), leaky(10));\n",
    "\n",
    "thetas = map(t -> t[2], values[2:end]);\n",
    "thetas_matlab = readThetasMatlab(\"../test/seq1_leaky_10_theta.txt\", len)\n",
    "\n",
    "threshold = 1e-8\n",
    "n = sum(isless.(abs.(thetas - thetas_matlab), threshold))\n",
    "\n",
    "# percentage of correct predictions\n",
    "@show(n / len);"
   ]
  },
  {
   "cell_type": "code",
   "execution_count": 149,
   "metadata": {},
   "outputs": [],
   "source": [
    "# ============== DECODE TRANSITION RATE ======================\n",
    "# generate sequence\n",
    "chunks = [100, 200, 100, 200]\n",
    "len = sum(chunks)\n",
    "\n",
    "p = 0.25\n",
    "p1g2  = 1 .- [p, 1-p, p, 1-p]\n",
    "p2g1  =      [p, 1-p, p, 1-p]\n",
    "\n",
    "seq_trans = readSeq(\"../test/seq2.txt\", 600);\n",
    "# (seq_trans, prob1g2, prob2g1) = generateSequenceTrans(chunks, p1g2, p2g1)\n",
    "# exportSeq(seq, \"seq2.txt\")\n",
    "# exportSeq(prob1g2, \"seq2_p1g2.txt\")\n",
    "# exportSeq(prob2g1, \"seq2_p2g1.txt\")"
   ]
  },
  {
   "cell_type": "code",
   "execution_count": 150,
   "metadata": {},
   "outputs": [
    {
     "name": "stdout",
     "output_type": "stream",
     "text": [
      "n / len = 1.0\n"
     ]
    }
   ],
   "source": [
    "values = decodeSurprise(seq_trans, 1, ones(2, 2), perfect());\n",
    "\n",
    "# here we do 2:end because we want to skip the first value (incomplete window)\n",
    "thetas = map(t -> t[2], values[2:end]);\n",
    "thetas_matlab = readThetasMatlab(\"../test/seq2_perfect_theta.txt\", len)\n",
    "\n",
    "threshold = 1e-8\n",
    "n = sum(isless.(abs.(thetas - thetas_matlab), threshold))\n",
    "\n",
    "# percentage of correct predictions\n",
    "@show(n / len);"
   ]
  },
  {
   "cell_type": "code",
   "execution_count": 152,
   "metadata": {},
   "outputs": [
    {
     "name": "stdout",
     "output_type": "stream",
     "text": [
      "n / len = 1.0\n"
     ]
    }
   ],
   "source": [
    "values = decodeSurprise(seq_trans, 1, ones(2, 2), leaky(16, true));\n",
    "\n",
    "thetas = map(t -> t[2], values[2:end]);\n",
    "thetas_matlab = readThetasMatlab(\"../test/seq2_leaky_16_theta.txt\", len)\n",
    "\n",
    "threshold = 1e-8\n",
    "n = sum(isless.(abs.(thetas - thetas_matlab), threshold))\n",
    "\n",
    "# percentage of correct predictions\n",
    "@show(n / len);"
   ]
  }
 ],
 "metadata": {
  "kernelspec": {
   "display_name": "Julia 1.3.1",
   "language": "julia",
   "name": "julia-1.3"
  },
  "language_info": {
   "file_extension": ".jl",
   "mimetype": "application/julia",
   "name": "julia",
   "version": "1.3.1"
  }
 },
 "nbformat": 4,
 "nbformat_minor": 4
}
