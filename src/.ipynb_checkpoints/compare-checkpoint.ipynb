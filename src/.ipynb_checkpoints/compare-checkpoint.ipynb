{
 "cells": [
  {
   "cell_type": "code",
   "execution_count": 66,
   "metadata": {},
   "outputs": [
    {
     "data": {
      "text/plain": [
       "particleFiltering (generic function with 2 methods)"
      ]
     },
     "execution_count": 66,
     "metadata": {},
     "output_type": "execute_result"
    }
   ],
   "source": [
    "using PyPlot, Printf, Random, DelimitedFiles\n",
    "\n",
    "include(\"decode.jl\")\n",
    "include(\"utils.jl\")\n",
    "include(\"updateRule.jl\")"
   ]
  },
  {
   "cell_type": "code",
   "execution_count": 4,
   "metadata": {},
   "outputs": [
    {
     "data": {
      "text/plain": [
       "MersenneTwister(UInt32[0x000004d2], Random.DSFMT.DSFMT_state(Int32[-1393240018, 1073611148, 45497681, 1072875908, 436273599, 1073674613, -2043716458, 1073445557, -254908435, 1072827086  …  -599655111, 1073144102, 367655457, 1072985259, -1278750689, 1018350124, -597141475, 249849711, 382, 0]), [0.0, 0.0, 0.0, 0.0, 0.0, 0.0, 0.0, 0.0, 0.0, 0.0  …  0.0, 0.0, 0.0, 0.0, 0.0, 0.0, 0.0, 0.0, 0.0, 0.0], UInt128[0x00000000000000000000000000000000, 0x00000000000000000000000000000000, 0x00000000000000000000000000000000, 0x00000000000000000000000000000000, 0x00000000000000000000000000000000, 0x00000000000000000000000000000000, 0x00000000000000000000000000000000, 0x00000000000000000000000000000000, 0x00000000000000000000000000000000, 0x00000000000000000000000000000000  …  0x00000000000000000000000000000000, 0x00000000000000000000000000000000, 0x00000000000000000000000000000000, 0x00000000000000000000000000000000, 0x00000000000000000000000000000000, 0x00000000000000000000000000000000, 0x00000000000000000000000000000000, 0x00000000000000000000000000000000, 0x00000000000000000000000000000000, 0x00000000000000000000000000000000], 1002, 0)"
      ]
     },
     "execution_count": 4,
     "metadata": {},
     "output_type": "execute_result"
    }
   ],
   "source": [
    "Random.seed!(1234)"
   ]
  },
  {
   "cell_type": "code",
   "execution_count": 5,
   "metadata": {},
   "outputs": [
    {
     "data": {
      "text/plain": [
       "decodeSurprise (generic function with 1 method)"
      ]
     },
     "execution_count": 5,
     "metadata": {},
     "output_type": "execute_result"
    }
   ],
   "source": [
    "function decodeSurprise(seq, m, alpha_0, rule)\n",
    "    # define callback\n",
    "    surprises = zeros(length(seq))\n",
    "    thetas = zeros(length(seq))\n",
    "    idx = 1\n",
    "    function callback(x_t, col)\n",
    "        surprises[idx] = rule.computeSurprise(x_t, col, alpha_0[:,col])\n",
    "        thetas[idx] = rule.computeTheta(col)\n",
    "        idx += 1\n",
    "    end\n",
    "\n",
    "    # decode sequence\n",
    "    decode(seq, m, alpha_0, rule, callback)\n",
    "    \n",
    "    return surprises, thetas\n",
    "end"
   ]
  },
  {
   "cell_type": "code",
   "execution_count": 100,
   "metadata": {},
   "outputs": [
    {
     "data": {
      "text/plain": [
       "generateSequenceBase (generic function with 1 method)"
      ]
     },
     "execution_count": 100,
     "metadata": {},
     "output_type": "execute_result"
    }
   ],
   "source": [
    "function generateSequenceBase(chunks, ps)\n",
    "    seq = Array{Int32}(undef, sum(chunks))\n",
    "    prob = Array{Float32}(undef, sum(chunks))\n",
    "    \n",
    "    i = 1\n",
    "    for (p, chunk) in zip(ps, chunks)\n",
    "        for j = 1:chunk\n",
    "            seq[i] = rand() > p\n",
    "            prob[i] = p\n",
    "            i += 1\n",
    "        end\n",
    "    end\n",
    "    \n",
    "    return (seq, prob)\n",
    "end"
   ]
  },
  {
   "cell_type": "code",
   "execution_count": 101,
   "metadata": {},
   "outputs": [
    {
     "data": {
      "text/plain": [
       "generateSequenceBase (generic function with 2 methods)"
      ]
     },
     "execution_count": 101,
     "metadata": {},
     "output_type": "execute_result"
    }
   ],
   "source": [
    "function generateSequenceBase(chunks, ps1g2, ps2g1)\n",
    "    seq = Array{Int32}(undef, sum(chunks))\n",
    "    prob1g2 = Array{Float32}(undef, sum(chunks))\n",
    "    prob2g1 = Array{Float32}(undef, sum(chunks))\n",
    "    \n",
    "    i = 1\n",
    "    for (p1g2, p2g1, chunk) in zip(ps1g2, ps2g1, chunks)\n",
    "        for j = 1:chunk\n",
    "            # todo add seq generation logic here \n",
    "            # seq[i] = rand() > p\n",
    "            # prob[i] = p\n",
    "            i += 1\n",
    "        end\n",
    "    end\n",
    "    \n",
    "    return (seq, prob1g2, prob2g1)\n",
    "end"
   ]
  },
  {
   "cell_type": "code",
   "execution_count": 23,
   "metadata": {},
   "outputs": [
    {
     "data": {
      "text/plain": [
       "exportSeq (generic function with 1 method)"
      ]
     },
     "execution_count": 23,
     "metadata": {},
     "output_type": "execute_result"
    }
   ],
   "source": [
    "function exportSeq(seq, filename)\n",
    "    f = open(filename, \"w\")\n",
    "\n",
    "    for el in seq\n",
    "        print(f, el)\n",
    "        print(f, \" \")\n",
    "    end\n",
    "    \n",
    "    close(f)\n",
    "end"
   ]
  },
  {
   "cell_type": "code",
   "execution_count": 99,
   "metadata": {},
   "outputs": [
    {
     "data": {
      "text/plain": [
       "compare (generic function with 2 methods)"
      ]
     },
     "execution_count": 99,
     "metadata": {},
     "output_type": "execute_result"
    }
   ],
   "source": [
    "function compare(filename_matlab, thetas, threshold)\n",
    "    f = open(filename_matlab, \"r\")\n",
    "    t = readdlm(f)\n",
    "    close(f)\n",
    "    thetas_matlab = t[1,1:1000]\n",
    "    \n",
    "    return thetas_matlab, sum(isless.(abs.(thetas - thetas_matlab), threshold))\n",
    "end"
   ]
  },
  {
   "cell_type": "code",
   "execution_count": 25,
   "metadata": {},
   "outputs": [],
   "source": [
    "# ============== DECODE BASE RATE ======================\n",
    "# generate sequence\n",
    "chunks = [200, 200, 200, 200, 200]\n",
    "len = sum(chunks)\n",
    "\n",
    "p = 0.25\n",
    "ps = [p, 1-p, p, 1-p, p]\n",
    "\n",
    "(seq, prob) = generateSequenceBase(chunks, ps)\n",
    "# exportSeq(seq, \"seq1.txt\")\n",
    "# exportSeq(prob, \"seq1_p.txt\")\n",
    "\n",
    "\"\"\"\n",
    "# matlab code\n",
    "\n",
    "s = dlmread('seq1.txt') + 1; % add one because they work with elements 1 and 2\n",
    "gen_p1 = dlmread('seq1_p.txt');\n",
    "\n",
    "% compute ...\n",
    "\n",
    "fid = fopen('seq1_leaky_10_theta.txt','wt'); % change filename\n",
    "fprintf(fid, '%.9f ', out.FIX.p1_mean');\n",
    "fclose(fid);\n",
    "\n",
    "return;\n",
    "\"\"\""
   ]
  },
  {
   "cell_type": "code",
   "execution_count": 107,
   "metadata": {},
   "outputs": [
    {
     "name": "stdout",
     "output_type": "stream",
     "text": [
      "n / len = 1.0\n"
     ]
    },
    {
     "data": {
      "text/plain": [
       "1.0"
      ]
     },
     "execution_count": 107,
     "metadata": {},
     "output_type": "execute_result"
    }
   ],
   "source": [
    "surprises, thetas = decodeSurprise(seq, m, ones(2, 1), perfect());\n",
    "thetas_matlab, n = compare(\"seq1_perfect_theta.txt\", thetas, 1e-8);\n",
    "@show(n / len) # percentage of correct predictions"
   ]
  },
  {
   "cell_type": "code",
   "execution_count": 108,
   "metadata": {},
   "outputs": [
    {
     "name": "stdout",
     "output_type": "stream",
     "text": [
      "n / len = 1.0\n"
     ]
    },
    {
     "data": {
      "text/plain": [
       "1.0"
      ]
     },
     "execution_count": 108,
     "metadata": {},
     "output_type": "execute_result"
    }
   ],
   "source": [
    "surprises, thetas = decodeSurprise(seq, m, ones(2, 1), leaky(10));\n",
    "thetas_matlab, n = compare(\"seq1_leaky_10_theta.txt\", thetas, 1e-8);\n",
    "@show(n / len) # percentage of correct predictions"
   ]
  },
  {
   "cell_type": "code",
   "execution_count": 94,
   "metadata": {},
   "outputs": [
    {
     "data": {
      "text/plain": [
       "compare (generic function with 2 methods)"
      ]
     },
     "execution_count": 94,
     "metadata": {},
     "output_type": "execute_result"
    }
   ],
   "source": [
    "# ============== DECODE TRANSITION RATE ======================\n",
    "# generate sequence\n",
    "chunks = [100, 200, 100, 200]\n",
    "len = sum(chunks)\n",
    "\n",
    "p = 0.25\n",
    "p1g2  = 1 - [p, 1-p, p, 1-p]\n",
    "p2g1  =     [p, 1-p, p, 1-p]\n",
    "\n",
    "(seq, prob1g2, prob2g1) = generateSequenceTrans(chunks, p1g2, p2g1)\n",
    "# exportSeq(seq, \"seq2.txt\")\n",
    "# exportSeq(prob1g2, \"seq2_p1g2.txt\")\n",
    "# exportSeq(prob2g1, \"seq2_p2g1.txt\")"
   ]
  },
  {
   "cell_type": "code",
   "execution_count": 98,
   "metadata": {},
   "outputs": [
    {
     "data": {
      "text/plain": [
       "1000"
      ]
     },
     "execution_count": 98,
     "metadata": {},
     "output_type": "execute_result"
    }
   ],
   "source": []
  }
 ],
 "metadata": {
  "kernelspec": {
   "display_name": "Julia 1.3.1",
   "language": "julia",
   "name": "julia-1.3"
  },
  "language_info": {
   "file_extension": ".jl",
   "mimetype": "application/julia",
   "name": "julia",
   "version": "1.3.1"
  }
 },
 "nbformat": 4,
 "nbformat_minor": 4
}
