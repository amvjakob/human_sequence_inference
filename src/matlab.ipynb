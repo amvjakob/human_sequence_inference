{
 "cells": [
  {
   "cell_type": "code",
   "execution_count": 3,
   "metadata": {},
   "outputs": [],
   "source": [
    "using MATLAB\n",
    "\n",
    "function initMatlab()\n",
    "    spmpath = \"C:\\\\Users\\\\antho\\\\Documents\\\\MATLAB\\\\spm12\"\n",
    "    mat\"\"\"addpath($spmpath)\"\"\"\n",
    "end\n",
    "\n",
    "function bms(lme) \n",
    "    mat\"\"\"[$alpha, $exp_r, $xp, $pxp, $bor] = spm_BMS($lme)\"\"\"\n",
    "    return alpha, exp_r, xp, pxp, bor\n",
    "end\n",
    "\n",
    "lme = [[2.0, 5.0],[1.0, 4.0]]\n",
    "lme = hcat(lme...);"
   ]
  },
  {
   "cell_type": "code",
   "execution_count": 4,
   "metadata": {},
   "outputs": [
    {
     "data": {
      "text/plain": [
       "([2.7813607993452694 1.2186392006547309], [0.6953401998363173 0.3046598001636827], [0.8121202940828319 0.18787970591716804], [0.6443868793775263 0.35561312062247374], 0.5373998996066299)"
      ]
     },
     "execution_count": 4,
     "metadata": {},
     "output_type": "execute_result"
    }
   ],
   "source": [
    "initMatlab()\n",
    "bms(lme)"
   ]
  }
 ],
 "metadata": {
  "kernelspec": {
   "display_name": "Julia 1.3.1",
   "language": "julia",
   "name": "julia-1.3"
  },
  "language_info": {
   "file_extension": ".jl",
   "mimetype": "application/julia",
   "name": "julia",
   "version": "1.3.1"
  }
 },
 "nbformat": 4,
 "nbformat_minor": 4
}
