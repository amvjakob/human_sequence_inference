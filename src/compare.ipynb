{
 "cells": [
  {
   "cell_type": "code",
   "execution_count": 1,
   "metadata": {},
   "outputs": [],
   "source": [
    "using PyPlot, Printf, Random, DelimitedFiles, Dates\n",
    "\n",
    "include(\"decode.jl\")\n",
    "include(\"utils.jl\")\n",
    "include(\"updateRule.jl\");"
   ]
  },
  {
   "cell_type": "code",
   "execution_count": 2,
   "metadata": {},
   "outputs": [],
   "source": [
    "Random.seed!(1234);"
   ]
  },
  {
   "cell_type": "code",
   "execution_count": 3,
   "metadata": {},
   "outputs": [],
   "source": [
    "function computeSBFAndTheta(rule, x_t, col)\n",
    "   return rule.computeSBF(x_t, col, alpha_0[:,col])\n",
    "end\n",
    "\n",
    "function decodeSurprise(seq, m, alpha_0, rule, ignoreFirstM = true)\n",
    "    function computeSBFAndTheta(rule, x_t, col)\n",
    "        sbf = rule.computeSBF(x_t, col, alpha_0[:,col])\n",
    "        theta = 1 - rule.computeTheta(col)\n",
    "        return (sbf, theta) \n",
    "    end\n",
    "    \n",
    "    # define callback to compute SBF and Thetas\n",
    "    returnType = Tuple{Float64, Float64}\n",
    "    callback = Callback(computeSBFAndTheta, returnType)\n",
    "\n",
    "    # decode sequence\n",
    "    values = decode(seq, m, alpha_0, rule;\n",
    "                    callback = callback, ignoreFirstM = ignoreFirstM)\n",
    "    \n",
    "    if ignoreFirstM && m > 0\n",
    "        values[1:m] .= Ref{returnType}((1.0, 0.5))\n",
    "    end\n",
    "    \n",
    "    return values\n",
    "end;"
   ]
  },
  {
   "cell_type": "code",
   "execution_count": 4,
   "metadata": {},
   "outputs": [],
   "source": [
    "function generateSequenceBase(chunks, ps)\n",
    "    seq = Array{Int32}(undef, sum(chunks))\n",
    "    prob = Array{Float32}(undef, sum(chunks))\n",
    "    \n",
    "    i = 1\n",
    "    for (p, chunk) in zip(ps, chunks)\n",
    "        for j = 1:chunk\n",
    "            seq[i] = rand() < p\n",
    "            prob[i] = p\n",
    "            i += 1\n",
    "        end\n",
    "    end\n",
    "    \n",
    "    return (seq, prob)\n",
    "end;"
   ]
  },
  {
   "cell_type": "code",
   "execution_count": 5,
   "metadata": {},
   "outputs": [],
   "source": [
    "function generateSequenceTrans(chunks, ps1g2, ps2g1)\n",
    "    seq = Array{Int32}(undef, sum(chunks))\n",
    "    prob1g2 = Array{Float32}(undef, sum(chunks))\n",
    "    prob2g1 = Array{Float32}(undef, sum(chunks))\n",
    "    \n",
    "    i = 2\n",
    "    \n",
    "    # set inital value\n",
    "    seq[1] = rand() > 0.5\n",
    "    prob1g2[1] = ps1g2[1]\n",
    "    prob2g1[1] = ps2g1[1]\n",
    "    \n",
    "    for (p1g2, p2g1, chunk) in zip(ps1g2, ps2g1, chunks)\n",
    "        for j = 1:chunk\n",
    "            p = seq[i - 1] == 0 ? p2g1 : 1 - p1g2\n",
    "            seq[i] = rand() < p\n",
    "            prob1g2[i] = p1g2\n",
    "            prob2g1[i] = p2g1\n",
    "            i += 1\n",
    "            if i > sum(chunks)\n",
    "               break \n",
    "            end\n",
    "        end\n",
    "    end\n",
    "    \n",
    "    return (seq, prob1g2, prob2g1)\n",
    "end;"
   ]
  },
  {
   "cell_type": "code",
   "execution_count": 6,
   "metadata": {},
   "outputs": [],
   "source": [
    "function exportSeq(seq, filename)\n",
    "    f = open(filename, \"w\")\n",
    "\n",
    "    for el in seq\n",
    "        print(f, el)\n",
    "        print(f, \" \")\n",
    "    end\n",
    "    \n",
    "    close(f)\n",
    "end\n",
    ";"
   ]
  },
  {
   "cell_type": "code",
   "execution_count": 7,
   "metadata": {},
   "outputs": [],
   "source": [
    "function readThetasMatlab(filename, len)\n",
    "   f = open(filename, \"r\")\n",
    "    t = readdlm(f)\n",
    "    close(f)\n",
    "    return t[1,1:len]\n",
    "end;"
   ]
  },
  {
   "cell_type": "code",
   "execution_count": 8,
   "metadata": {},
   "outputs": [],
   "source": [
    "function readSeq(filename, len)\n",
    "    f = open(filename, \"r\")\n",
    "    t = readdlm(f)\n",
    "    close(f)\n",
    "    \n",
    "    return t[1,1:len]\n",
    "end;"
   ]
  },
  {
   "cell_type": "code",
   "execution_count": 49,
   "metadata": {},
   "outputs": [],
   "source": [
    "# ============== DECODE BASE RATE ======================\n",
    "# generate sequence\n",
    "chunks = [200, 200, 200, 200, 200]\n",
    "len = sum(chunks)\n",
    "\n",
    "p = 0.25\n",
    "ps = [p, 1-p, p, 1-p, p]\n",
    "\n",
    "seq_base = readSeq(\"../test/seq1.txt\", 1000)\n",
    "# (seq_base, prob) = generateSequenceBase(chunks, ps)\n",
    "# exportSeq(seq_base, \"../test/seq1.txt\")\n",
    "# exportSeq(prob, \"../test/seq1_p.txt\")\n",
    "\n",
    "\"\"\"\n",
    "# matlab code\n",
    "\n",
    "s = dlmread('seq1.txt') + 1; % add one because they work with elements 1 and 2\n",
    "gen_p1 = dlmread('seq1_p.txt');\n",
    "\n",
    "% compute ...\n",
    "\n",
    "fid = fopen('seq1_leaky_10_theta.txt','wt'); % change filename\n",
    "fprintf(fid, '%.9f ', out.FIX.p1_mean');\n",
    "fclose(fid);\n",
    "\n",
    "return;\n",
    "\"\"\"\n",
    ";"
   ]
  },
  {
   "cell_type": "code",
   "execution_count": 50,
   "metadata": {},
   "outputs": [
    {
     "name": "stdout",
     "output_type": "stream",
     "text": [
      "n / len = 1.0\n"
     ]
    }
   ],
   "source": [
    "values = decodeSurprise(seq_base, 0, ones(2, 1), perfect());\n",
    "\n",
    "# here we do 2:end\n",
    "thetas = map(t -> t[2], values[2:end]);\n",
    "thetas_matlab = readThetasMatlab(\"../test/seq1_perfect_theta.txt\", len)\n",
    "\n",
    "threshold = 1e-8\n",
    "n = sum(isless.(abs.(thetas - thetas_matlab), threshold))\n",
    "\n",
    "# percentage of correct predictions\n",
    "@show(n / len);"
   ]
  },
  {
   "cell_type": "code",
   "execution_count": 36,
   "metadata": {},
   "outputs": [
    {
     "data": {
      "text/plain": [
       "1000-element Array{Any,1}:\n",
       " 0.666666667\n",
       " 0.75       \n",
       " 0.8        \n",
       " 0.833333333\n",
       " 0.714285714\n",
       " 0.75       \n",
       " 0.777777778\n",
       " 0.8        \n",
       " 0.818181818\n",
       " 0.833333333\n",
       " 0.846153846\n",
       " 0.785714286\n",
       " 0.8        \n",
       " ⋮          \n",
       " 0.561049445\n",
       " 0.560483871\n",
       " 0.560926485\n",
       " 0.561368209\n",
       " 0.561809045\n",
       " 0.562248996\n",
       " 0.562688064\n",
       " 0.562124248\n",
       " 0.562562563\n",
       " 0.563      \n",
       " 0.563436563\n",
       " 0.562874251"
      ]
     },
     "execution_count": 36,
     "metadata": {},
     "output_type": "execute_result"
    }
   ],
   "source": [
    "thetas_matlab"
   ]
  },
  {
   "cell_type": "code",
   "execution_count": 52,
   "metadata": {},
   "outputs": [
    {
     "data": {
      "text/plain": [
       "1000-element Array{Float64,1}:\n",
       " 0.6666666666666667\n",
       " 0.75              \n",
       " 0.8               \n",
       " 0.8333333333333334\n",
       " 0.7142857142857143\n",
       " 0.75              \n",
       " 0.7777777777777778\n",
       " 0.8               \n",
       " 0.8181818181818181\n",
       " 0.8333333333333334\n",
       " 0.8461538461538461\n",
       " 0.7857142857142857\n",
       " 0.8               \n",
       " ⋮                 \n",
       " 0.5610494450050454\n",
       " 0.560483870967742 \n",
       " 0.5609264853977844\n",
       " 0.5613682092555332\n",
       " 0.5618090452261306\n",
       " 0.5622489959839357\n",
       " 0.5626880641925778\n",
       " 0.5621242484969939\n",
       " 0.5625625625625625\n",
       " 0.563             \n",
       " 0.5634365634365635\n",
       " 0.562874251497006 "
      ]
     },
     "execution_count": 52,
     "metadata": {},
     "output_type": "execute_result"
    }
   ],
   "source": [
    "thetas"
   ]
  },
  {
   "cell_type": "code",
   "execution_count": 34,
   "metadata": {},
   "outputs": [
    {
     "data": {
      "text/plain": [
       "1000-element Array{Any,1}:\n",
       " 0\n",
       " 0\n",
       " 0\n",
       " 0\n",
       " 1\n",
       " 0\n",
       " 0\n",
       " 0\n",
       " 0\n",
       " 0\n",
       " 0\n",
       " 1\n",
       " 0\n",
       " ⋮\n",
       " 0\n",
       " 1\n",
       " 0\n",
       " 0\n",
       " 0\n",
       " 0\n",
       " 0\n",
       " 1\n",
       " 0\n",
       " 0\n",
       " 0\n",
       " 1"
      ]
     },
     "execution_count": 34,
     "metadata": {},
     "output_type": "execute_result"
    }
   ],
   "source": [
    "seq_base"
   ]
  },
  {
   "cell_type": "code",
   "execution_count": 31,
   "metadata": {},
   "outputs": [
    {
     "name": "stdout",
     "output_type": "stream",
     "text": [
      "n / len = 1.0\n"
     ]
    }
   ],
   "source": [
    "values = decodeSurprise(seq_base, 0, ones(2, 1), leaky(10));\n",
    "\n",
    "thetas = map(t -> t[2], values[2:end]);\n",
    "thetas_matlab = readThetasMatlab(\"../test/seq1_leaky_10_theta.txt\", len)\n",
    "\n",
    "threshold = 1e-8\n",
    "n = sum(isless.(abs.(thetas - thetas_matlab), threshold))\n",
    "\n",
    "# percentage of correct predictions\n",
    "@show(n / len);"
   ]
  },
  {
   "cell_type": "code",
   "execution_count": 32,
   "metadata": {},
   "outputs": [
    {
     "data": {
      "text/plain": [
       "1000-element Array{Any,1}:\n",
       " 0.655746654\n",
       " 0.731440394\n",
       " 0.776005051\n",
       " 0.805246899\n",
       " 0.668218298\n",
       " 0.710855857\n",
       " 0.743493135\n",
       " 0.769164098\n",
       " 0.789790802\n",
       " 0.806650193\n",
       " 0.820623935\n",
       " 0.727668166\n",
       " 0.750443185\n",
       " ⋮          \n",
       " 0.755442211\n",
       " 0.691821395\n",
       " 0.712879451\n",
       " 0.731933568\n",
       " 0.749174446\n",
       " 0.764774637\n",
       " 0.778890274\n",
       " 0.71303808 \n",
       " 0.732077101\n",
       " 0.74930432 \n",
       " 0.764892152\n",
       " 0.700372056"
      ]
     },
     "execution_count": 32,
     "metadata": {},
     "output_type": "execute_result"
    }
   ],
   "source": [
    "thetas_matlab"
   ]
  },
  {
   "cell_type": "code",
   "execution_count": 45,
   "metadata": {},
   "outputs": [],
   "source": [
    "# ============== DECODE TRANSITION RATE ======================\n",
    "# generate sequence\n",
    "chunks = [100, 200, 100, 200]\n",
    "len = sum(chunks)\n",
    "\n",
    "p = 0.25\n",
    "p1g2  = 1 .- [p, 1-p, p, 1-p]\n",
    "p2g1  =      [p, 1-p, p, 1-p]\n",
    "\n",
    "seq_trans = readSeq(\"../test/seq2.txt\", 600);\n",
    "# (seq_trans, prob1g2, prob2g1) = generateSequenceTrans(chunks, p1g2, p2g1)\n",
    "# exportSeq(seq, \"seq2.txt\")\n",
    "# exportSeq(prob1g2, \"seq2_p1g2.txt\")\n",
    "# exportSeq(prob2g1, \"seq2_p2g1.txt\")"
   ]
  },
  {
   "cell_type": "code",
   "execution_count": 46,
   "metadata": {},
   "outputs": [
    {
     "name": "stdout",
     "output_type": "stream",
     "text": [
      "n / len = 1.0\n"
     ]
    }
   ],
   "source": [
    "rule = perfect()\n",
    "values = decodeSurprise(seq_trans, 1, ones(2, 2), rule)\n",
    "\n",
    "# here we do 2:end because we want to skip the first value (incomplete window)\n",
    "thetas = map(t -> t[2], values[2:end]);\n",
    "thetas_matlab = readThetasMatlab(\"../test/seq2_perfect_theta.txt\", len)\n",
    "\n",
    "threshold = 1e-8\n",
    "n = sum(isless.(abs.(thetas - thetas_matlab), threshold))\n",
    "\n",
    "# percentage of correct predictions\n",
    "@show(n / len);"
   ]
  },
  {
   "cell_type": "code",
   "execution_count": 17,
   "metadata": {},
   "outputs": [
    {
     "name": "stdout",
     "output_type": "stream",
     "text": [
      "n / len = 1.0\n"
     ]
    }
   ],
   "source": [
    "rule = leaky(16, true)\n",
    "values = decodeSurprise(seq_trans, 1, ones(2, 2), rule);\n",
    "\n",
    "thetas = map(t -> t[2], values[2:end]);\n",
    "thetas_matlab = readThetasMatlab(\"../test/seq2_leaky_16_theta.txt\", len)\n",
    "\n",
    "threshold = 1e-8\n",
    "n = sum(isless.(abs.(thetas - thetas_matlab), threshold))\n",
    "\n",
    "# percentage of correct predictions\n",
    "@show(n / len);"
   ]
  },
  {
   "cell_type": "code",
   "execution_count": null,
   "metadata": {},
   "outputs": [],
   "source": [
    "\"\"\"\n",
    "In the case m = 0 (item frequency learning), Maheu et al. estimate the thetas after seeing the value.\n",
    "\n",
    "In the case m = 1 (transition frequency learning), Maheu et al. estimate the thetas before seeing the value, \n",
    "but discard the first value since there is no window before it.\n",
    "\"\"\"\n",
    ";"
   ]
  },
  {
   "cell_type": "code",
   "execution_count": 1,
   "metadata": {},
   "outputs": [],
   "source": [
    "using BenchmarkTools"
   ]
  },
  {
   "cell_type": "code",
   "execution_count": 3,
   "metadata": {},
   "outputs": [
    {
     "name": "stdout",
     "output_type": "stream",
     "text": [
      "  6.737 ms (30002 allocations: 24.87 MiB)\n",
      "  12.553 ms (30002 allocations: 24.87 MiB)\n"
     ]
    }
   ],
   "source": [
    "fn = (x) -> x.^2\n",
    "\n",
    "function iterate2(mat)\n",
    "    res = similar(mat)\n",
    "    for i = 1:size(mat,2)\n",
    "        for j = 1:size(mat,3)\n",
    "            res[:,i,j] = fn(mat[:,i,j])\n",
    "        end\n",
    "    end\n",
    "end\n",
    "\n",
    "function iterate2d2(mat)\n",
    "    res = similar(mat)\n",
    "    for i = 1:size(mat,1)\n",
    "        for j = 1:size(mat,2)\n",
    "            res[i,j] = fn(mat[i,j])\n",
    "        end\n",
    "    end\n",
    "end\n",
    "\n",
    "function iterate3(mat)\n",
    "    res = similar(mat)\n",
    "    for i = 1:size(mat,1)\n",
    "        for j = 1:size(mat,2)\n",
    "            res[i,j,:] = fn(mat[i,j,:])\n",
    "        end\n",
    "    end\n",
    "end\n",
    "\n",
    "function iterate2d3(mat)\n",
    "    res = similar(mat)\n",
    "    for i = 1:size(mat,2)\n",
    "        for j = 1:size(mat,1)\n",
    "            res[j,i] = fn(mat[j,i])\n",
    "        end\n",
    "    end\n",
    "end\n",
    "\n",
    "function iterate4(mat)\n",
    "    res = similar(mat)\n",
    "    for i = eachindex(res)\n",
    "        res[i] = fn(mat[i])\n",
    "    end\n",
    "end\n",
    "\n",
    "N = 100\n",
    "mat = rand(N,N,N)\n",
    "mat2d = rand(N,N)\n",
    "\n",
    "@btime iterate2(mat)\n",
    "@btime iterate3(mat)"
   ]
  }
 ],
 "metadata": {
  "kernelspec": {
   "display_name": "Julia 1.3.1",
   "language": "julia",
   "name": "julia-1.3"
  },
  "language_info": {
   "file_extension": ".jl",
   "mimetype": "application/julia",
   "name": "julia",
   "version": "1.3.1"
  }
 },
 "nbformat": 4,
 "nbformat_minor": 4
}
